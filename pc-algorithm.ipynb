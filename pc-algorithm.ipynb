{
 "cells": [
  {
   "cell_type": "code",
   "execution_count": 10,
   "metadata": {},
   "outputs": [],
   "source": [
    "import pandas as pd\n",
    "import numpy as np\n",
    "import pandas as pd"
   ]
  },
  {
   "cell_type": "code",
   "execution_count": 3,
   "metadata": {},
   "outputs": [
    {
     "data": {
      "text/html": [
       "<div>\n",
       "<style scoped>\n",
       "    .dataframe tbody tr th:only-of-type {\n",
       "        vertical-align: middle;\n",
       "    }\n",
       "\n",
       "    .dataframe tbody tr th {\n",
       "        vertical-align: top;\n",
       "    }\n",
       "\n",
       "    .dataframe thead th {\n",
       "        text-align: right;\n",
       "    }\n",
       "</style>\n",
       "<table border=\"1\" class=\"dataframe\">\n",
       "  <thead>\n",
       "    <tr style=\"text-align: right;\">\n",
       "      <th></th>\n",
       "      <th>X</th>\n",
       "      <th>Y</th>\n",
       "      <th>Z</th>\n",
       "      <th>sum</th>\n",
       "    </tr>\n",
       "  </thead>\n",
       "  <tbody>\n",
       "    <tr>\n",
       "      <th>0</th>\n",
       "      <td>0</td>\n",
       "      <td>1</td>\n",
       "      <td>4</td>\n",
       "      <td>5</td>\n",
       "    </tr>\n",
       "    <tr>\n",
       "      <th>1</th>\n",
       "      <td>3</td>\n",
       "      <td>1</td>\n",
       "      <td>0</td>\n",
       "      <td>4</td>\n",
       "    </tr>\n",
       "    <tr>\n",
       "      <th>2</th>\n",
       "      <td>4</td>\n",
       "      <td>0</td>\n",
       "      <td>3</td>\n",
       "      <td>7</td>\n",
       "    </tr>\n",
       "    <tr>\n",
       "      <th>3</th>\n",
       "      <td>2</td>\n",
       "      <td>2</td>\n",
       "      <td>0</td>\n",
       "      <td>4</td>\n",
       "    </tr>\n",
       "    <tr>\n",
       "      <th>4</th>\n",
       "      <td>2</td>\n",
       "      <td>4</td>\n",
       "      <td>2</td>\n",
       "      <td>8</td>\n",
       "    </tr>\n",
       "  </tbody>\n",
       "</table>\n",
       "</div>"
      ],
      "text/plain": [
       "   X  Y  Z  sum\n",
       "0  0  1  4    5\n",
       "1  3  1  0    4\n",
       "2  4  0  3    7\n",
       "3  2  2  0    4\n",
       "4  2  4  2    8"
      ]
     },
     "execution_count": 3,
     "metadata": {},
     "output_type": "execute_result"
    }
   ],
   "source": [
    "data = pd.DataFrame(np.random.randint(0, 5, size=(2500, 3)), columns=list('XYZ'))\n",
    "data['sum'] = data.sum(axis=1)\n",
    "data.head()"
   ]
  },
  {
   "cell_type": "markdown",
   "metadata": {},
   "source": [
    "# pcalg\n",
    "## G2検定\n",
    "・G2検定はデータを離散化する必要がある  \n",
    "・データの離散化にはpandasのcutが使える  \n",
    "・離散化する際のカテゴリ数をデータ点数から決定する「スタージェスの公式」"
   ]
  },
  {
   "cell_type": "code",
   "execution_count": 44,
   "metadata": {},
   "outputs": [
    {
     "data": {
      "text/html": [
       "<div>\n",
       "<style scoped>\n",
       "    .dataframe tbody tr th:only-of-type {\n",
       "        vertical-align: middle;\n",
       "    }\n",
       "\n",
       "    .dataframe tbody tr th {\n",
       "        vertical-align: top;\n",
       "    }\n",
       "\n",
       "    .dataframe thead th {\n",
       "        text-align: right;\n",
       "    }\n",
       "</style>\n",
       "<table border=\"1\" class=\"dataframe\">\n",
       "  <thead>\n",
       "    <tr style=\"text-align: right;\">\n",
       "      <th></th>\n",
       "      <th>cpu-usage</th>\n",
       "    </tr>\n",
       "  </thead>\n",
       "  <tbody>\n",
       "    <tr>\n",
       "      <th>0</th>\n",
       "      <td>62.675118</td>\n",
       "    </tr>\n",
       "    <tr>\n",
       "      <th>1</th>\n",
       "      <td>55.678797</td>\n",
       "    </tr>\n",
       "    <tr>\n",
       "      <th>2</th>\n",
       "      <td>37.825195</td>\n",
       "    </tr>\n",
       "    <tr>\n",
       "      <th>3</th>\n",
       "      <td>54.912529</td>\n",
       "    </tr>\n",
       "    <tr>\n",
       "      <th>4</th>\n",
       "      <td>3.699469</td>\n",
       "    </tr>\n",
       "  </tbody>\n",
       "</table>\n",
       "</div>"
      ],
      "text/plain": [
       "   cpu-usage\n",
       "0  62.675118\n",
       "1  55.678797\n",
       "2  37.825195\n",
       "3  54.912529\n",
       "4   3.699469"
      ]
     },
     "execution_count": 44,
     "metadata": {},
     "output_type": "execute_result"
    }
   ],
   "source": [
    "data_size = 100\n",
    "cpu_usage = np.random.uniform(0, 100, data_size)\n",
    "df = pd.DataFrame({\"cpu-usage\": cpu_usage})\n",
    "df.head()"
   ]
  },
  {
   "cell_type": "code",
   "execution_count": 45,
   "metadata": {},
   "outputs": [
    {
     "name": "stdout",
     "output_type": "stream",
     "text": [
      "Number of bins: 7\n"
     ]
    },
    {
     "data": {
      "text/plain": [
       "0     4\n",
       "1     3\n",
       "2     2\n",
       "3     3\n",
       "4     0\n",
       "     ..\n",
       "95    1\n",
       "96    2\n",
       "97    5\n",
       "98    2\n",
       "99    4\n",
       "Name: cpu-usage, Length: 100, dtype: category\n",
       "Categories (7, int64): [0 < 1 < 2 < 3 < 4 < 5 < 6]"
      ]
     },
     "execution_count": 45,
     "metadata": {},
     "output_type": "execute_result"
    }
   ],
   "source": [
    "# スタージェスの公式でビン数を決定し，離散化する\n",
    "n_bins = int(np.log2(data_size) + 1)\n",
    "print(\"Number of bins: {}\".format(n_bins))\n",
    "discrete_data = pd.cut(df[\"cpu-usage\"], n_bins, labels=np.arange(0, n_bins)) #retbins=True)\n",
    "discrete_data"
   ]
  },
  {
   "cell_type": "code",
   "execution_count": 46,
   "metadata": {},
   "outputs": [
    {
     "data": {
      "text/html": [
       "<div>\n",
       "<style scoped>\n",
       "    .dataframe tbody tr th:only-of-type {\n",
       "        vertical-align: middle;\n",
       "    }\n",
       "\n",
       "    .dataframe tbody tr th {\n",
       "        vertical-align: top;\n",
       "    }\n",
       "\n",
       "    .dataframe thead th {\n",
       "        text-align: right;\n",
       "    }\n",
       "</style>\n",
       "<table border=\"1\" class=\"dataframe\">\n",
       "  <thead>\n",
       "    <tr style=\"text-align: right;\">\n",
       "      <th></th>\n",
       "      <th>cpu-usage</th>\n",
       "      <th>discrete-cpu-usage</th>\n",
       "    </tr>\n",
       "  </thead>\n",
       "  <tbody>\n",
       "    <tr>\n",
       "      <th>0</th>\n",
       "      <td>62.675118</td>\n",
       "      <td>4</td>\n",
       "    </tr>\n",
       "    <tr>\n",
       "      <th>1</th>\n",
       "      <td>55.678797</td>\n",
       "      <td>3</td>\n",
       "    </tr>\n",
       "    <tr>\n",
       "      <th>2</th>\n",
       "      <td>37.825195</td>\n",
       "      <td>2</td>\n",
       "    </tr>\n",
       "    <tr>\n",
       "      <th>3</th>\n",
       "      <td>54.912529</td>\n",
       "      <td>3</td>\n",
       "    </tr>\n",
       "    <tr>\n",
       "      <th>4</th>\n",
       "      <td>3.699469</td>\n",
       "      <td>0</td>\n",
       "    </tr>\n",
       "  </tbody>\n",
       "</table>\n",
       "</div>"
      ],
      "text/plain": [
       "   cpu-usage discrete-cpu-usage\n",
       "0  62.675118                  4\n",
       "1  55.678797                  3\n",
       "2  37.825195                  2\n",
       "3  54.912529                  3\n",
       "4   3.699469                  0"
      ]
     },
     "execution_count": 46,
     "metadata": {},
     "output_type": "execute_result"
    }
   ],
   "source": [
    "df[\"discrete-cpu-usage\"] = discrete_data\n",
    "df.head()"
   ]
  },
  {
   "cell_type": "code",
   "execution_count": 48,
   "metadata": {},
   "outputs": [
    {
     "name": "stdout",
     "output_type": "stream",
     "text": [
      "Edges are: [(0, 2), (1, 2), (1, 3), (4, 3)] => GOOD\n"
     ]
    }
   ],
   "source": [
    "# pcalgを使ってみる\n",
    "import pcalg\n",
    "import networkx as nx\n",
    "import numpy as np\n",
    "from gsq.ci_tests import ci_test_dis\n",
    "from gsq.gsq_testdata import dis_data\n",
    "\n",
    "dm = np.array(dis_data).reshape((10000, 5))\n",
    "(g, sep_set) = pcalg.estimate_skeleton(indep_test_func=ci_test_dis,\n",
    "                                 data_matrix=dm,\n",
    "                                 alpha=0.01,\n",
    "                                 levels=[3,2,3,4,2])\n",
    "g = pcalg.estimate_cpdag(skel_graph=g, sep_set=sep_set)\n",
    "g_answer = nx.DiGraph()\n",
    "g_answer.add_nodes_from([0, 1, 2, 3, 4])\n",
    "g_answer.add_edges_from([(0, 2), (1, 2), (1, 3), (4, 3)])\n",
    "print('Edges are:', g.edges(), end='')\n",
    "if nx.is_isomorphic(g, g_answer):\n",
    "    print(' => GOOD')\n",
    "else:\n",
    "    print(' => WRONG')\n",
    "    print('True edges should be:', g_answer.edges())"
   ]
  },
  {
   "cell_type": "markdown",
   "metadata": {},
   "source": [
    "## Fisher-Z検定"
   ]
  },
  {
   "cell_type": "code",
   "execution_count": 26,
   "metadata": {},
   "outputs": [],
   "source": [
    "from citestfz.ci_tests import ci_test_gauss"
   ]
  },
  {
   "cell_type": "code",
   "execution_count": 28,
   "metadata": {},
   "outputs": [
    {
     "name": "stdout",
     "output_type": "stream",
     "text": [
      "Edges are: [(0, 2), (1, 2), (1, 3), (4, 3)] => GOOD\n"
     ]
    }
   ],
   "source": [
    "cm = np.corrcoef(dm.T)\n",
    "\n",
    "(g, sep_set) = pcalg.estimate_skeleton(indep_test_func=ci_test_gauss,\n",
    "                                 data_matrix=dm,\n",
    "                                 alpha=0.01,\n",
    "                                 corr_matrix=cm)\n",
    "g = pcalg.estimate_cpdag(skel_graph=g, sep_set=sep_set)\n",
    "g_answer = nx.DiGraph()\n",
    "g_answer.add_nodes_from([0, 1, 2, 3, 4])\n",
    "g_answer.add_edges_from([(0, 2), (1, 2), (1, 3), (4, 3)])\n",
    "print('Edges are:', g.edges(), end='')\n",
    "if nx.is_isomorphic(g, g_answer):\n",
    "    print(' => GOOD')\n",
    "else:\n",
    "    print(' => WRONG')\n",
    "    print('True edges should be:', g_answer.edges())"
   ]
  },
  {
   "cell_type": "code",
   "execution_count": null,
   "metadata": {},
   "outputs": [],
   "source": []
  }
 ],
 "metadata": {
  "kernelspec": {
   "display_name": "Python 3",
   "language": "python",
   "name": "python3"
  },
  "language_info": {
   "codemirror_mode": {
    "name": "ipython",
    "version": 3
   },
   "file_extension": ".py",
   "mimetype": "text/x-python",
   "name": "python",
   "nbconvert_exporter": "python",
   "pygments_lexer": "ipython3",
   "version": "3.8.2"
  }
 },
 "nbformat": 4,
 "nbformat_minor": 4
}
