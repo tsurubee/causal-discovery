{
 "cells": [
  {
   "cell_type": "code",
   "execution_count": 49,
   "metadata": {},
   "outputs": [],
   "source": [
    "import pandas as pd\n",
    "import numpy as np\n",
    "import pandas as pd"
   ]
  },
  {
   "cell_type": "code",
   "execution_count": 50,
   "metadata": {},
   "outputs": [
    {
     "data": {
      "text/html": [
       "<div>\n",
       "<style scoped>\n",
       "    .dataframe tbody tr th:only-of-type {\n",
       "        vertical-align: middle;\n",
       "    }\n",
       "\n",
       "    .dataframe tbody tr th {\n",
       "        vertical-align: top;\n",
       "    }\n",
       "\n",
       "    .dataframe thead th {\n",
       "        text-align: right;\n",
       "    }\n",
       "</style>\n",
       "<table border=\"1\" class=\"dataframe\">\n",
       "  <thead>\n",
       "    <tr style=\"text-align: right;\">\n",
       "      <th></th>\n",
       "      <th>X</th>\n",
       "      <th>Y</th>\n",
       "      <th>Z</th>\n",
       "      <th>sum</th>\n",
       "    </tr>\n",
       "  </thead>\n",
       "  <tbody>\n",
       "    <tr>\n",
       "      <th>0</th>\n",
       "      <td>0</td>\n",
       "      <td>0</td>\n",
       "      <td>4</td>\n",
       "      <td>4</td>\n",
       "    </tr>\n",
       "    <tr>\n",
       "      <th>1</th>\n",
       "      <td>4</td>\n",
       "      <td>4</td>\n",
       "      <td>4</td>\n",
       "      <td>12</td>\n",
       "    </tr>\n",
       "    <tr>\n",
       "      <th>2</th>\n",
       "      <td>4</td>\n",
       "      <td>3</td>\n",
       "      <td>3</td>\n",
       "      <td>10</td>\n",
       "    </tr>\n",
       "    <tr>\n",
       "      <th>3</th>\n",
       "      <td>4</td>\n",
       "      <td>2</td>\n",
       "      <td>4</td>\n",
       "      <td>10</td>\n",
       "    </tr>\n",
       "    <tr>\n",
       "      <th>4</th>\n",
       "      <td>1</td>\n",
       "      <td>3</td>\n",
       "      <td>0</td>\n",
       "      <td>4</td>\n",
       "    </tr>\n",
       "  </tbody>\n",
       "</table>\n",
       "</div>"
      ],
      "text/plain": [
       "   X  Y  Z  sum\n",
       "0  0  0  4    4\n",
       "1  4  4  4   12\n",
       "2  4  3  3   10\n",
       "3  4  2  4   10\n",
       "4  1  3  0    4"
      ]
     },
     "execution_count": 50,
     "metadata": {},
     "output_type": "execute_result"
    }
   ],
   "source": [
    "data = pd.DataFrame(np.random.randint(0, 5, size=(2500, 3)), columns=list('XYZ'))\n",
    "data['sum'] = data.sum(axis=1)\n",
    "data.head()"
   ]
  },
  {
   "cell_type": "markdown",
   "metadata": {},
   "source": [
    "# pcalg\n",
    "## G2検定\n",
    "・G2検定はデータを離散化する必要がある  \n",
    "・データの離散化にはpandasのcutが使える  \n",
    "・離散化する際のカテゴリ数をデータ点数から決定する「スタージェスの公式」"
   ]
  },
  {
   "cell_type": "code",
   "execution_count": 51,
   "metadata": {},
   "outputs": [
    {
     "data": {
      "text/html": [
       "<div>\n",
       "<style scoped>\n",
       "    .dataframe tbody tr th:only-of-type {\n",
       "        vertical-align: middle;\n",
       "    }\n",
       "\n",
       "    .dataframe tbody tr th {\n",
       "        vertical-align: top;\n",
       "    }\n",
       "\n",
       "    .dataframe thead th {\n",
       "        text-align: right;\n",
       "    }\n",
       "</style>\n",
       "<table border=\"1\" class=\"dataframe\">\n",
       "  <thead>\n",
       "    <tr style=\"text-align: right;\">\n",
       "      <th></th>\n",
       "      <th>cpu-usage</th>\n",
       "    </tr>\n",
       "  </thead>\n",
       "  <tbody>\n",
       "    <tr>\n",
       "      <th>0</th>\n",
       "      <td>93.932835</td>\n",
       "    </tr>\n",
       "    <tr>\n",
       "      <th>1</th>\n",
       "      <td>94.574255</td>\n",
       "    </tr>\n",
       "    <tr>\n",
       "      <th>2</th>\n",
       "      <td>5.966837</td>\n",
       "    </tr>\n",
       "    <tr>\n",
       "      <th>3</th>\n",
       "      <td>71.438086</td>\n",
       "    </tr>\n",
       "    <tr>\n",
       "      <th>4</th>\n",
       "      <td>1.085029</td>\n",
       "    </tr>\n",
       "  </tbody>\n",
       "</table>\n",
       "</div>"
      ],
      "text/plain": [
       "   cpu-usage\n",
       "0  93.932835\n",
       "1  94.574255\n",
       "2   5.966837\n",
       "3  71.438086\n",
       "4   1.085029"
      ]
     },
     "execution_count": 51,
     "metadata": {},
     "output_type": "execute_result"
    }
   ],
   "source": [
    "data_size = 100\n",
    "cpu_usage = np.random.uniform(0, 100, data_size)\n",
    "df = pd.DataFrame({\"cpu-usage\": cpu_usage})\n",
    "df.head()"
   ]
  },
  {
   "cell_type": "code",
   "execution_count": 52,
   "metadata": {},
   "outputs": [
    {
     "name": "stdout",
     "output_type": "stream",
     "text": [
      "Number of bins: 7\n"
     ]
    },
    {
     "data": {
      "text/plain": [
       "0     6\n",
       "1     6\n",
       "2     0\n",
       "3     5\n",
       "4     0\n",
       "     ..\n",
       "95    0\n",
       "96    5\n",
       "97    6\n",
       "98    4\n",
       "99    4\n",
       "Name: cpu-usage, Length: 100, dtype: category\n",
       "Categories (7, int64): [0 < 1 < 2 < 3 < 4 < 5 < 6]"
      ]
     },
     "execution_count": 52,
     "metadata": {},
     "output_type": "execute_result"
    }
   ],
   "source": [
    "# スタージェスの公式でビン数を決定し，離散化する\n",
    "n_bins = int(np.log2(data_size) + 1)\n",
    "print(\"Number of bins: {}\".format(n_bins))\n",
    "discrete_data = pd.cut(df[\"cpu-usage\"], n_bins, labels=np.arange(0, n_bins)) #retbins=True)\n",
    "discrete_data"
   ]
  },
  {
   "cell_type": "code",
   "execution_count": 53,
   "metadata": {},
   "outputs": [
    {
     "data": {
      "text/html": [
       "<div>\n",
       "<style scoped>\n",
       "    .dataframe tbody tr th:only-of-type {\n",
       "        vertical-align: middle;\n",
       "    }\n",
       "\n",
       "    .dataframe tbody tr th {\n",
       "        vertical-align: top;\n",
       "    }\n",
       "\n",
       "    .dataframe thead th {\n",
       "        text-align: right;\n",
       "    }\n",
       "</style>\n",
       "<table border=\"1\" class=\"dataframe\">\n",
       "  <thead>\n",
       "    <tr style=\"text-align: right;\">\n",
       "      <th></th>\n",
       "      <th>cpu-usage</th>\n",
       "      <th>discrete-cpu-usage</th>\n",
       "    </tr>\n",
       "  </thead>\n",
       "  <tbody>\n",
       "    <tr>\n",
       "      <th>0</th>\n",
       "      <td>93.932835</td>\n",
       "      <td>6</td>\n",
       "    </tr>\n",
       "    <tr>\n",
       "      <th>1</th>\n",
       "      <td>94.574255</td>\n",
       "      <td>6</td>\n",
       "    </tr>\n",
       "    <tr>\n",
       "      <th>2</th>\n",
       "      <td>5.966837</td>\n",
       "      <td>0</td>\n",
       "    </tr>\n",
       "    <tr>\n",
       "      <th>3</th>\n",
       "      <td>71.438086</td>\n",
       "      <td>5</td>\n",
       "    </tr>\n",
       "    <tr>\n",
       "      <th>4</th>\n",
       "      <td>1.085029</td>\n",
       "      <td>0</td>\n",
       "    </tr>\n",
       "  </tbody>\n",
       "</table>\n",
       "</div>"
      ],
      "text/plain": [
       "   cpu-usage discrete-cpu-usage\n",
       "0  93.932835                  6\n",
       "1  94.574255                  6\n",
       "2   5.966837                  0\n",
       "3  71.438086                  5\n",
       "4   1.085029                  0"
      ]
     },
     "execution_count": 53,
     "metadata": {},
     "output_type": "execute_result"
    }
   ],
   "source": [
    "df[\"discrete-cpu-usage\"] = discrete_data\n",
    "df.head()"
   ]
  },
  {
   "cell_type": "code",
   "execution_count": 54,
   "metadata": {},
   "outputs": [
    {
     "name": "stdout",
     "output_type": "stream",
     "text": [
      "Edges are: [(0, 2), (1, 2), (1, 3), (4, 3)] => GOOD\n"
     ]
    }
   ],
   "source": [
    "# pcalgを使ってみる\n",
    "import pcalg\n",
    "import networkx as nx\n",
    "import numpy as np\n",
    "from gsq.ci_tests import ci_test_dis\n",
    "from gsq.gsq_testdata import dis_data\n",
    "\n",
    "dm = np.array(dis_data).reshape((10000, 5))\n",
    "(g, sep_set) = pcalg.estimate_skeleton(indep_test_func=ci_test_dis,\n",
    "                                 data_matrix=dm,\n",
    "                                 alpha=0.01,\n",
    "                                 levels=[3,2,3,4,2])\n",
    "g = pcalg.estimate_cpdag(skel_graph=g, sep_set=sep_set)\n",
    "g_answer = nx.DiGraph()\n",
    "g_answer.add_nodes_from([0, 1, 2, 3, 4])\n",
    "g_answer.add_edges_from([(0, 2), (1, 2), (1, 3), (4, 3)])\n",
    "print('Edges are:', g.edges(), end='')\n",
    "if nx.is_isomorphic(g, g_answer):\n",
    "    print(' => GOOD')\n",
    "else:\n",
    "    print(' => WRONG')\n",
    "    print('True edges should be:', g_answer.edges())"
   ]
  },
  {
   "cell_type": "markdown",
   "metadata": {},
   "source": [
    "## Fisher-Z検定"
   ]
  },
  {
   "cell_type": "code",
   "execution_count": 55,
   "metadata": {},
   "outputs": [],
   "source": [
    "from citestfz.ci_tests import ci_test_gauss"
   ]
  },
  {
   "cell_type": "code",
   "execution_count": 28,
   "metadata": {},
   "outputs": [
    {
     "name": "stdout",
     "output_type": "stream",
     "text": [
      "Edges are: [(0, 2), (1, 2), (1, 3), (4, 3)] => GOOD\n"
     ]
    }
   ],
   "source": [
    "cm = np.corrcoef(dm.T)\n",
    "\n",
    "(g, sep_set) = pcalg.estimate_skeleton(indep_test_func=ci_test_gauss,\n",
    "                                 data_matrix=dm,\n",
    "                                 alpha=0.01,\n",
    "                                 corr_matrix=cm)\n",
    "g = pcalg.estimate_cpdag(skel_graph=g, sep_set=sep_set)\n",
    "g_answer = nx.DiGraph()\n",
    "g_answer.add_nodes_from([0, 1, 2, 3, 4])\n",
    "g_answer.add_edges_from([(0, 2), (1, 2), (1, 3), (4, 3)])\n",
    "print('Edges are:', g.edges(), end='')\n",
    "if nx.is_isomorphic(g, g_answer):\n",
    "    print(' => GOOD')\n",
    "else:\n",
    "    print(' => WRONG')\n",
    "    print('True edges should be:', g_answer.edges())"
   ]
  },
  {
   "cell_type": "markdown",
   "metadata": {},
   "source": [
    "## 事前知識を入れる"
   ]
  },
  {
   "cell_type": "code",
   "execution_count": 84,
   "metadata": {},
   "outputs": [
    {
     "data": {
      "text/plain": [
       "range(0, 5)"
      ]
     },
     "execution_count": 84,
     "metadata": {},
     "output_type": "execute_result"
    }
   ],
   "source": [
    "import pcalg\n",
    "import networkx as nx\n",
    "from gsq.ci_tests import ci_test_dis\n",
    "from gsq.gsq_testdata import dis_data\n",
    "\n",
    "dm = np.array(dis_data).reshape((10000, 5))\n",
    "node_ids = range(dm.shape[1])\n",
    "node_ids"
   ]
  },
  {
   "cell_type": "code",
   "execution_count": 85,
   "metadata": {},
   "outputs": [],
   "source": [
    "from itertools import combinations\n",
    "\n",
    "init_g = nx.Graph()\n",
    "init_g.add_nodes_from(node_ids)\n",
    "for (i, j) in combinations(node_ids, 2):\n",
    "    init_g.add_edge(i, j)\n",
    "\n",
    "no_paths=[[4, 1], [1, 2]]\n",
    "for no_path in no_paths:\n",
    "    init_g.remove_edge(no_path[0], no_path[1])\n",
    "# nx.nx_agraph.view_pygraphviz(g, prog='fdp')"
   ]
  },
  {
   "cell_type": "code",
   "execution_count": 86,
   "metadata": {},
   "outputs": [
    {
     "data": {
      "image/png": "[encoded data removed]",
      "text/plain": [
       "<Figure size 432x288 with 1 Axes>"
      ]
     },
     "metadata": {},
     "output_type": "display_data"
    }
   ],
   "source": [
    "nx.draw(init_g, with_labels=True)"
   ]
  },
  {
   "cell_type": "code",
   "execution_count": 88,
   "metadata": {},
   "outputs": [
    {
     "name": "stdout",
     "output_type": "stream",
     "text": [
      "Edges are: [(0, 2), (1, 3), (2, 0), (3, 1), (3, 4), (4, 3)] => WRONG\n",
      "True edges should be: [(0, 2), (1, 2), (1, 3), (4, 3)]\n"
     ]
    }
   ],
   "source": [
    "(g, sep_set) = pcalg.estimate_skeleton(indep_test_func=ci_test_dis,\n",
    "                                 data_matrix=dm,\n",
    "                                 alpha=0.01,\n",
    "                                 levels=[3,2,3,4,2],\n",
    "                                 init_graph=init_g)\n",
    "g = pcalg.estimate_cpdag(skel_graph=g, sep_set=sep_set)\n",
    "g_answer = nx.DiGraph()\n",
    "g_answer.add_nodes_from([0, 1, 2, 3, 4])\n",
    "g_answer.add_edges_from([(0, 2), (1, 2), (1, 3), (4, 3)])\n",
    "print('Edges are:', g.edges(), end='')\n",
    "if nx.is_isomorphic(g, g_answer):\n",
    "    print(' => GOOD')\n",
    "else:\n",
    "    print(' => WRONG')\n",
    "    print('True edges should be:', g_answer.edges())"
   ]
  },
  {
   "cell_type": "code",
   "execution_count": 89,
   "metadata": {},
   "outputs": [
    {
     "data": {
      "image/png": "[encoded data removed]",
      "text/plain": [
       "<Figure size 432x288 with 1 Axes>"
      ]
     },
     "metadata": {},
     "output_type": "display_data"
    }
   ],
   "source": [
    "nx.draw(g, with_labels=True)"
   ]
  },
  {
   "cell_type": "code",
   "execution_count": null,
   "metadata": {},
   "outputs": [],
   "source": []
  }
 ],
 "metadata": {
  "kernelspec": {
   "display_name": "Python 3",
   "language": "python",
   "name": "python3"
  },
  "language_info": {
   "codemirror_mode": {
    "name": "ipython",
    "version": 3
   },
   "file_extension": ".py",
   "mimetype": "text/x-python",
   "name": "python",
   "nbconvert_exporter": "python",
   "pygments_lexer": "ipython3",
   "version": "3.8.2"
  }
 },
 "nbformat": 4,
 "nbformat_minor": 4
}
