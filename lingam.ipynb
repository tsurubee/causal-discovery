{
 "cells": [
  {
   "cell_type": "code",
   "execution_count": 1,
   "metadata": {},
   "outputs": [],
   "source": [
    "import numpy as np\n",
    "import matplotlib.pyplot as plt\n",
    "import lingam\n",
    "import graphviz"
   ]
  },
  {
   "cell_type": "markdown",
   "metadata": {},
   "source": [
    "# VAR-LiNGAM"
   ]
  },
  {
   "cell_type": "code",
   "execution_count": 21,
   "metadata": {},
   "outputs": [],
   "source": [
    "t = np.arange(1, 101)\n",
    "x = t/10 + np.random.normal(size=len(t))\n",
    "y = x + np.random.normal(size=len(t))"
   ]
  },
  {
   "cell_type": "code",
   "execution_count": 22,
   "metadata": {},
   "outputs": [
    {
     "data": {
      "text/plain": [
       "<function matplotlib.pyplot.show(close=None, block=None)>"
      ]
     },
     "execution_count": 22,
     "metadata": {},
     "output_type": "execute_result"
    },
    {
     "data": {
      "image/png": "[encoded data removed]",
      "text/plain": [
       "<Figure size 432x288 with 1 Axes>"
      ]
     },
     "metadata": {
      "needs_background": "light"
     },
     "output_type": "display_data"
    }
   ],
   "source": [
    "plt.plot(t, x)\n",
    "plt.plot(t, y)\n",
    "plt.show"
   ]
  },
  {
   "cell_type": "code",
   "execution_count": 24,
   "metadata": {},
   "outputs": [
    {
     "data": {
      "text/plain": [
       "<lingam.var_lingam.VARLiNGAM at 0x12c01fb20>"
      ]
     },
     "execution_count": 24,
     "metadata": {},
     "output_type": "execute_result"
    }
   ],
   "source": [
    "data = np.array([[x],[y]]).reshape(100, 2)\n",
    "\n",
    "model = lingam.VARLiNGAM()\n",
    "model.fit(data)"
   ]
  },
  {
   "cell_type": "code",
   "execution_count": 25,
   "metadata": {},
   "outputs": [
    {
     "name": "stdout",
     "output_type": "stream",
     "text": [
      "[0, 1]\n"
     ]
    }
   ],
   "source": [
    "print(model.causal_order_)"
   ]
  },
  {
   "cell_type": "code",
   "execution_count": 26,
   "metadata": {},
   "outputs": [
    {
     "name": "stdout",
     "output_type": "stream",
     "text": [
      "[[[0.         0.        ]\n",
      "  [0.62811426 0.        ]]\n",
      "\n",
      " [[0.66033262 0.30383144]\n",
      "  [0.27572048 0.12302854]]]\n"
     ]
    }
   ],
   "source": [
    "print(model.adjacency_matrices_)"
   ]
  },
  {
   "cell_type": "code",
   "execution_count": 27,
   "metadata": {},
   "outputs": [
    {
     "data": {
      "image/svg+xml": [
       "<?xml version=\"1.0\" encoding=\"UTF-8\" standalone=\"no\"?>\n",
       "<!DOCTYPE svg PUBLIC \"-//W3C//DTD SVG 1.1//EN\"\n",
       " \"http://www.w3.org/Graphics/SVG/1.1/DTD/svg11.dtd\">\n",
       "<!-- Generated by graphviz version 2.44.1 (20200629.0846)\n",
       " -->\n",
       "<!-- Pages: 1 -->\n",
       "<svg width=\"155pt\" height=\"218pt\"\n",
       " viewBox=\"0.00 0.00 154.55 218.00\" xmlns=\"http://www.w3.org/2000/svg\" xmlns:xlink=\"http://www.w3.org/1999/xlink\">\n",
       "<g id=\"graph0\" class=\"graph\" transform=\"scale(1 1) rotate(0) translate(4 214)\">\n",
       "<polygon fill=\"white\" stroke=\"transparent\" points=\"-4,4 -4,-214 150.55,-214 150.55,4 -4,4\"/>\n",
       "<!-- x(t) -->\n",
       "<g id=\"node1\" class=\"node\">\n",
       "<title>x(t)</title>\n",
       "<ellipse fill=\"none\" stroke=\"black\" cx=\"74.55\" cy=\"-105\" rx=\"27\" ry=\"18\"/>\n",
       "<text text-anchor=\"middle\" x=\"74.55\" y=\"-101.3\" font-family=\"Times,serif\" font-size=\"14.00\">x(t)</text>\n",
       "</g>\n",
       "<!-- y(t) -->\n",
       "<g id=\"node2\" class=\"node\">\n",
       "<title>y(t)</title>\n",
       "<ellipse fill=\"none\" stroke=\"black\" cx=\"74.55\" cy=\"-18\" rx=\"27\" ry=\"18\"/>\n",
       "<text text-anchor=\"middle\" x=\"74.55\" y=\"-14.3\" font-family=\"Times,serif\" font-size=\"14.00\">y(t)</text>\n",
       "</g>\n",
       "<!-- x(t)&#45;&gt;y(t) -->\n",
       "<g id=\"edge3\" class=\"edge\">\n",
       "<title>x(t)&#45;&gt;y(t)</title>\n",
       "<path fill=\"none\" stroke=\"black\" d=\"M74.55,-86.8C74.55,-75.16 74.55,-59.55 74.55,-46.24\"/>\n",
       "<polygon fill=\"black\" stroke=\"black\" points=\"78.05,-46.18 74.55,-36.18 71.05,-46.18 78.05,-46.18\"/>\n",
       "<text text-anchor=\"middle\" x=\"87.05\" y=\"-57.8\" font-family=\"Times,serif\" font-size=\"14.00\">0.63</text>\n",
       "</g>\n",
       "<!-- x(t&#45;1) -->\n",
       "<g id=\"node3\" class=\"node\">\n",
       "<title>x(t&#45;1)</title>\n",
       "<ellipse fill=\"none\" stroke=\"black\" cx=\"30.55\" cy=\"-192\" rx=\"30.59\" ry=\"18\"/>\n",
       "<text text-anchor=\"middle\" x=\"30.55\" y=\"-188.3\" font-family=\"Times,serif\" font-size=\"14.00\">x(t&#45;1)</text>\n",
       "</g>\n",
       "<!-- x(t&#45;1)&#45;&gt;x(t) -->\n",
       "<g id=\"edge1\" class=\"edge\">\n",
       "<title>x(t&#45;1)&#45;&gt;x(t)</title>\n",
       "<path fill=\"none\" stroke=\"black\" d=\"M39.03,-174.61C45.36,-162.38 54.13,-145.44 61.37,-131.46\"/>\n",
       "<polygon fill=\"black\" stroke=\"black\" points=\"64.6,-132.83 66.09,-122.34 58.38,-129.61 64.6,-132.83\"/>\n",
       "<text text-anchor=\"middle\" x=\"67.05\" y=\"-144.8\" font-family=\"Times,serif\" font-size=\"14.00\">0.66</text>\n",
       "</g>\n",
       "<!-- x(t&#45;1)&#45;&gt;y(t) -->\n",
       "<g id=\"edge4\" class=\"edge\">\n",
       "<title>x(t&#45;1)&#45;&gt;y(t)</title>\n",
       "<path fill=\"none\" stroke=\"black\" d=\"M22.62,-174.25C13.84,-153.23 2.3,-116.39 13.55,-87 20.85,-67.93 36.23,-50.85 49.72,-38.57\"/>\n",
       "<polygon fill=\"black\" stroke=\"black\" points=\"52.12,-41.12 57.37,-31.92 47.53,-35.84 52.12,-41.12\"/>\n",
       "<text text-anchor=\"middle\" x=\"26.05\" y=\"-101.3\" font-family=\"Times,serif\" font-size=\"14.00\">0.28</text>\n",
       "</g>\n",
       "<!-- y(t&#45;1) -->\n",
       "<g id=\"node4\" class=\"node\">\n",
       "<title>y(t&#45;1)</title>\n",
       "<ellipse fill=\"none\" stroke=\"black\" cx=\"110.55\" cy=\"-192\" rx=\"30.59\" ry=\"18\"/>\n",
       "<text text-anchor=\"middle\" x=\"110.55\" y=\"-188.3\" font-family=\"Times,serif\" font-size=\"14.00\">y(t&#45;1)</text>\n",
       "</g>\n",
       "<!-- y(t&#45;1)&#45;&gt;x(t) -->\n",
       "<g id=\"edge2\" class=\"edge\">\n",
       "<title>y(t&#45;1)&#45;&gt;x(t)</title>\n",
       "<path fill=\"none\" stroke=\"black\" d=\"M103.43,-174.21C98.32,-162.14 91.34,-145.64 85.51,-131.89\"/>\n",
       "<polygon fill=\"black\" stroke=\"black\" points=\"88.65,-130.31 81.52,-122.47 82.2,-133.04 88.65,-130.31\"/>\n",
       "<text text-anchor=\"middle\" x=\"107.05\" y=\"-144.8\" font-family=\"Times,serif\" font-size=\"14.00\">0.30</text>\n",
       "</g>\n",
       "<!-- y(t&#45;1)&#45;&gt;y(t) -->\n",
       "<g id=\"edge5\" class=\"edge\">\n",
       "<title>y(t&#45;1)&#45;&gt;y(t)</title>\n",
       "<path fill=\"none\" stroke=\"black\" d=\"M118.14,-174.25C120.34,-168.58 122.45,-162.12 123.55,-156 124.73,-149.44 124.3,-147.62 123.55,-141 119.07,-101.58 121.12,-89.57 103.55,-54 101.35,-49.55 98.48,-45.17 95.4,-41.1\"/>\n",
       "<polygon fill=\"black\" stroke=\"black\" points=\"97.99,-38.74 88.93,-33.24 92.59,-43.19 97.99,-38.74\"/>\n",
       "<text text-anchor=\"middle\" x=\"134.05\" y=\"-101.3\" font-family=\"Times,serif\" font-size=\"14.00\">0.12</text>\n",
       "</g>\n",
       "</g>\n",
       "</svg>\n"
      ],
      "text/plain": [
       "<graphviz.dot.Digraph at 0x12c016820>"
      ]
     },
     "execution_count": 27,
     "metadata": {},
     "output_type": "execute_result"
    }
   ],
   "source": [
    "from lingam.utils import make_dot\n",
    "labels = ['x(t)', 'y(t)', 'x(t-1)', 'y(t-1)']\n",
    "make_dot(np.hstack(model.adjacency_matrices_), ignore_shape=True, lower_limit=0.05, labels=labels)"
   ]
  },
  {
   "cell_type": "markdown",
   "metadata": {},
   "source": [
    "# LiNGAM"
   ]
  },
  {
   "cell_type": "code",
   "execution_count": 2,
   "metadata": {},
   "outputs": [
    {
     "data": {
      "text/plain": [
       "<function matplotlib.pyplot.show(close=None, block=None)>"
      ]
     },
     "execution_count": 2,
     "metadata": {},
     "output_type": "execute_result"
    },
    {
     "data": {
      "image/png": "[encoded data removed]",
      "text/plain": [
       "<Figure size 432x288 with 1 Axes>"
      ]
     },
     "metadata": {
      "needs_background": "light"
     },
     "output_type": "display_data"
    }
   ],
   "source": [
    "t = np.arange(1, 101)\n",
    "x = t/10 + np.random.normal(size=len(t))\n",
    "y = x + np.random.normal(size=len(t))\n",
    "plt.scatter(x, y)\n",
    "plt.show"
   ]
  },
  {
   "cell_type": "code",
   "execution_count": 3,
   "metadata": {},
   "outputs": [],
   "source": [
    "data = np.array([[x],[y]]).reshape(100, 2)"
   ]
  },
  {
   "cell_type": "markdown",
   "metadata": {},
   "source": [
    "## DirectLiNGAM"
   ]
  },
  {
   "cell_type": "code",
   "execution_count": 4,
   "metadata": {},
   "outputs": [
    {
     "name": "stdout",
     "output_type": "stream",
     "text": [
      "[0, 1]\n"
     ]
    }
   ],
   "source": [
    "model = lingam.DirectLiNGAM()\n",
    "model.fit(data)\n",
    "\n",
    "print(model.causal_order_)"
   ]
  },
  {
   "cell_type": "code",
   "execution_count": 5,
   "metadata": {},
   "outputs": [
    {
     "name": "stdout",
     "output_type": "stream",
     "text": [
      "[[0.         0.        ]\n",
      " [0.83390643 0.        ]]\n"
     ]
    }
   ],
   "source": [
    "print(model.adjacency_matrix_)"
   ]
  },
  {
   "cell_type": "code",
   "execution_count": 7,
   "metadata": {},
   "outputs": [
    {
     "data": {
      "image/svg+xml": [
       "<?xml version=\"1.0\" encoding=\"UTF-8\" standalone=\"no\"?>\n",
       "<!DOCTYPE svg PUBLIC \"-//W3C//DTD SVG 1.1//EN\"\n",
       " \"http://www.w3.org/Graphics/SVG/1.1/DTD/svg11.dtd\">\n",
       "<!-- Generated by graphviz version 2.44.1 (20200629.0846)\n",
       " -->\n",
       "<!-- Pages: 1 -->\n",
       "<svg width=\"62pt\" height=\"131pt\"\n",
       " viewBox=\"0.00 0.00 62.00 131.00\" xmlns=\"http://www.w3.org/2000/svg\" xmlns:xlink=\"http://www.w3.org/1999/xlink\">\n",
       "<g id=\"graph0\" class=\"graph\" transform=\"scale(1 1) rotate(0) translate(4 127)\">\n",
       "<polygon fill=\"white\" stroke=\"transparent\" points=\"-4,4 -4,-127 58,-127 58,4 -4,4\"/>\n",
       "<!-- x -->\n",
       "<g id=\"node1\" class=\"node\">\n",
       "<title>x</title>\n",
       "<ellipse fill=\"none\" stroke=\"black\" cx=\"27\" cy=\"-105\" rx=\"27\" ry=\"18\"/>\n",
       "<text text-anchor=\"middle\" x=\"27\" y=\"-101.3\" font-family=\"Times,serif\" font-size=\"14.00\">x</text>\n",
       "</g>\n",
       "<!-- y -->\n",
       "<g id=\"node2\" class=\"node\">\n",
       "<title>y</title>\n",
       "<ellipse fill=\"none\" stroke=\"black\" cx=\"27\" cy=\"-18\" rx=\"27\" ry=\"18\"/>\n",
       "<text text-anchor=\"middle\" x=\"27\" y=\"-14.3\" font-family=\"Times,serif\" font-size=\"14.00\">y</text>\n",
       "</g>\n",
       "<!-- x&#45;&gt;y -->\n",
       "<g id=\"edge1\" class=\"edge\">\n",
       "<title>x&#45;&gt;y</title>\n",
       "<path fill=\"none\" stroke=\"black\" d=\"M27,-86.8C27,-75.16 27,-59.55 27,-46.24\"/>\n",
       "<polygon fill=\"black\" stroke=\"black\" points=\"30.5,-46.18 27,-36.18 23.5,-46.18 30.5,-46.18\"/>\n",
       "<text text-anchor=\"middle\" x=\"39.5\" y=\"-57.8\" font-family=\"Times,serif\" font-size=\"14.00\">0.83</text>\n",
       "</g>\n",
       "</g>\n",
       "</svg>\n"
      ],
      "text/plain": [
       "<graphviz.dot.Digraph at 0x12fda3b50>"
      ]
     },
     "execution_count": 7,
     "metadata": {},
     "output_type": "execute_result"
    }
   ],
   "source": [
    "from lingam.utils import make_dot\n",
    "labels = ['x', 'y']\n",
    "make_dot(model.adjacency_matrix_, labels=labels)"
   ]
  },
  {
   "cell_type": "code",
   "execution_count": 9,
   "metadata": {},
   "outputs": [
    {
     "name": "stdout",
     "output_type": "stream",
     "text": [
      "total effect: 0.834\n"
     ]
    }
   ],
   "source": [
    "# Total Effect\n",
    "# x0 --> x1\n",
    "te = model.estimate_total_effect(data, 0, 1)\n",
    "print(f'total effect: {te:.3f}')"
   ]
  },
  {
   "cell_type": "code",
   "execution_count": 10,
   "metadata": {},
   "outputs": [
    {
     "name": "stdout",
     "output_type": "stream",
     "text": [
      "total effect: 0.000\n"
     ]
    }
   ],
   "source": [
    "te = model.estimate_total_effect(data, 1, 0)\n",
    "print(f'total effect: {te:.3f}')"
   ]
  },
  {
   "cell_type": "code",
   "execution_count": null,
   "metadata": {},
   "outputs": [],
   "source": []
  },
  {
   "cell_type": "code",
   "execution_count": null,
   "metadata": {},
   "outputs": [],
   "source": []
  },
  {
   "cell_type": "markdown",
   "metadata": {},
   "source": [
    "## ICALiNGAM"
   ]
  },
  {
   "cell_type": "code",
   "execution_count": 58,
   "metadata": {},
   "outputs": [
    {
     "name": "stdout",
     "output_type": "stream",
     "text": [
      "[0, 1]\n"
     ]
    }
   ],
   "source": [
    "model = lingam.ICALiNGAM()\n",
    "model.fit(data)\n",
    "\n",
    "print(model.causal_order_)"
   ]
  },
  {
   "cell_type": "code",
   "execution_count": 56,
   "metadata": {},
   "outputs": [
    {
     "name": "stdout",
     "output_type": "stream",
     "text": [
      "[[0.         0.82014283]\n",
      " [0.         0.        ]]\n"
     ]
    }
   ],
   "source": [
    "print(model.adjacency_matrix_)"
   ]
  },
  {
   "cell_type": "code",
   "execution_count": 57,
   "metadata": {},
   "outputs": [
    {
     "data": {
      "image/svg+xml": [
       "<?xml version=\"1.0\" encoding=\"UTF-8\" standalone=\"no\"?>\n",
       "<!DOCTYPE svg PUBLIC \"-//W3C//DTD SVG 1.1//EN\"\n",
       " \"http://www.w3.org/Graphics/SVG/1.1/DTD/svg11.dtd\">\n",
       "<!-- Generated by graphviz version 2.44.1 (20200629.0846)\n",
       " -->\n",
       "<!-- Pages: 1 -->\n",
       "<svg width=\"62pt\" height=\"131pt\"\n",
       " viewBox=\"0.00 0.00 62.00 131.00\" xmlns=\"http://www.w3.org/2000/svg\" xmlns:xlink=\"http://www.w3.org/1999/xlink\">\n",
       "<g id=\"graph0\" class=\"graph\" transform=\"scale(1 1) rotate(0) translate(4 127)\">\n",
       "<polygon fill=\"white\" stroke=\"transparent\" points=\"-4,4 -4,-127 58,-127 58,4 -4,4\"/>\n",
       "<!-- x -->\n",
       "<g id=\"node1\" class=\"node\">\n",
       "<title>x</title>\n",
       "<ellipse fill=\"none\" stroke=\"black\" cx=\"27\" cy=\"-18\" rx=\"27\" ry=\"18\"/>\n",
       "<text text-anchor=\"middle\" x=\"27\" y=\"-14.3\" font-family=\"Times,serif\" font-size=\"14.00\">x</text>\n",
       "</g>\n",
       "<!-- y -->\n",
       "<g id=\"node2\" class=\"node\">\n",
       "<title>y</title>\n",
       "<ellipse fill=\"none\" stroke=\"black\" cx=\"27\" cy=\"-105\" rx=\"27\" ry=\"18\"/>\n",
       "<text text-anchor=\"middle\" x=\"27\" y=\"-101.3\" font-family=\"Times,serif\" font-size=\"14.00\">y</text>\n",
       "</g>\n",
       "<!-- y&#45;&gt;x -->\n",
       "<g id=\"edge1\" class=\"edge\">\n",
       "<title>y&#45;&gt;x</title>\n",
       "<path fill=\"none\" stroke=\"black\" d=\"M27,-86.8C27,-75.16 27,-59.55 27,-46.24\"/>\n",
       "<polygon fill=\"black\" stroke=\"black\" points=\"30.5,-46.18 27,-36.18 23.5,-46.18 30.5,-46.18\"/>\n",
       "<text text-anchor=\"middle\" x=\"39.5\" y=\"-57.8\" font-family=\"Times,serif\" font-size=\"14.00\">0.82</text>\n",
       "</g>\n",
       "</g>\n",
       "</svg>\n"
      ],
      "text/plain": [
       "<graphviz.dot.Digraph at 0x12c21fbe0>"
      ]
     },
     "execution_count": 57,
     "metadata": {},
     "output_type": "execute_result"
    }
   ],
   "source": [
    "labels = ['x', 'y']\n",
    "make_dot(model.adjacency_matrix_, labels=labels)"
   ]
  },
  {
   "cell_type": "code",
   "execution_count": null,
   "metadata": {},
   "outputs": [],
   "source": []
  }
 ],
 "metadata": {
  "kernelspec": {
   "display_name": "Python 3",
   "language": "python",
   "name": "python3"
  },
  "language_info": {
   "codemirror_mode": {
    "name": "ipython",
    "version": 3
   },
   "file_extension": ".py",
   "mimetype": "text/x-python",
   "name": "python",
   "nbconvert_exporter": "python",
   "pygments_lexer": "ipython3",
   "version": "3.8.2"
  }
 },
 "nbformat": 4,
 "nbformat_minor": 4
}
